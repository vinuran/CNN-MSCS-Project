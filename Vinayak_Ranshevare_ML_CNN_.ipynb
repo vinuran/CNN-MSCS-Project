{
  "nbformat": 4,
  "nbformat_minor": 0,
  "metadata": {
    "colab": {
      "provenance": []
    },
    "kernelspec": {
      "name": "python3",
      "display_name": "Python 3"
    },
    "language_info": {
      "name": "python"
    }
  },
  "cells": [
    {
      "cell_type": "markdown",
      "source": [
        "# Name: Vinayak Ranshevare\n",
        "Student Id: 101153659"
      ],
      "metadata": {
        "id": "Xpb-zZb3XytF"
      }
    },
    {
      "cell_type": "code",
      "execution_count": 8,
      "metadata": {
        "colab": {
          "base_uri": "https://localhost:8080/",
          "height": 0
        },
        "id": "DHpKQVRXQ0pf",
        "outputId": "eca8416b-67ec-4b34-c227-49e0c4065e39"
      },
      "outputs": [
        {
          "output_type": "stream",
          "name": "stdout",
          "text": [
            "Requirement already satisfied: ucimlrepo in /usr/local/lib/python3.10/dist-packages (0.0.6)\n"
          ]
        }
      ],
      "source": [
        "!pip install ucimlrepo"
      ]
    },
    {
      "cell_type": "code",
      "source": [
        "# Required Libraries\n",
        "import numpy as np\n",
        "import matplotlib.pyplot as plt\n",
        "from sklearn.model_selection import train_test_split, KFold\n",
        "from sklearn.metrics import accuracy_score, confusion_matrix\n",
        "from keras.models import Sequential\n",
        "from keras.layers import Conv2D, MaxPooling2D, Flatten, Dense, Dropout\n",
        "from keras.utils import to_categorical\n",
        "from tensorflow.keras.datasets import mnist\n",
        "from sklearn.datasets import fetch_openml\n",
        "from sklearn.model_selection import train_test_split\n",
        "from sklearn.preprocessing import LabelBinarizer\n",
        "from sklearn.model_selection import KFold\n",
        "from keras.utils import to_categorical\n",
        "from keras.callbacks import EarlyStopping"
      ],
      "metadata": {
        "id": "6Sszdpm1RGm3"
      },
      "execution_count": 9,
      "outputs": []
    },
    {
      "cell_type": "markdown",
      "source": [
        "# Data Preparation"
      ],
      "metadata": {
        "id": "hv3ONSybUioJ"
      }
    },
    {
      "cell_type": "code",
      "source": [
        "# Function to preprocess the MNIST data\n",
        "def preprocess_mnist_data(X, y):\n",
        "    # Normalize the features\n",
        "    X_normalized = X.astype('float32') / 255.0\n",
        "    # Reshape the features for CNN input (assuming grayscale images)\n",
        "    X_reshaped = X_normalized.reshape(-1, 28, 28, 1)\n",
        "    # One-hot encode the labels\n",
        "    y_encoded = to_categorical(y, num_classes=10)  # 10 classes for MNIST\n",
        "    return X_reshaped, y_encoded\n",
        "\n",
        "# Function to load MNIST dataset and reshape data\n",
        "def load_data():\n",
        "    # Load MNIST dataset\n",
        "    mnist = fetch_openml(name='mnist_784', version=1)\n",
        "    X, y = mnist.data, mnist.target\n",
        "\n",
        "    # Convert DataFrame to NumPy array\n",
        "    X = X.to_numpy()\n",
        "\n",
        "    # Normalize the pixel values\n",
        "    X = X / 255.0\n",
        "\n",
        "    # Reshape images to (28, 28, 1) as required by CNN\n",
        "    X = X.reshape(-1, 28, 28, 1)\n",
        "\n",
        "    # Convert labels to one-hot encoded format\n",
        "    label_binarizer = LabelBinarizer()\n",
        "    y = label_binarizer.fit_transform(y)\n",
        "\n",
        "    # Split the dataset into train, validation, and test sets\n",
        "    X_train, X_temp, y_train, y_temp = train_test_split(X, y, test_size=0.2, random_state=42)\n",
        "    X_val, X_test, y_val, y_test = train_test_split(X_temp, y_temp, test_size=0.5, random_state=42)\n",
        "\n",
        "    return X_train, y_train, X_val, y_val, X_test, y_test"
      ],
      "metadata": {
        "id": "JbGPOtW-RKzu"
      },
      "execution_count": 10,
      "outputs": []
    },
    {
      "cell_type": "markdown",
      "source": [
        "# Convolutional Neural Network Architecture\n",
        "# Max Pooling\n",
        "# Fully Connected Layer and Softmax\n",
        "\n"
      ],
      "metadata": {
        "id": "jGEeKkMvUwvg"
      }
    },
    {
      "cell_type": "code",
      "source": [
        "# Function to build the CNN model\n",
        "def build_cnn_model():\n",
        "    model = Sequential()\n",
        "    model.add(Conv2D(32, kernel_size=(3, 3), activation='relu', input_shape=(28, 28, 1)))\n",
        "    model.add(MaxPooling2D(pool_size=(2, 2)))\n",
        "    model.add(Conv2D(64, kernel_size=(3, 3), activation='relu'))\n",
        "    model.add(MaxPooling2D(pool_size=(2, 2)))\n",
        "    model.add(Flatten())\n",
        "    model.add(Dense(128, activation='relu'))\n",
        "    model.add(Dense(10, activation='softmax'))  # 10 output classes for MNIST digits\n",
        "    model.compile(optimizer='adam', loss='categorical_crossentropy', metrics=['accuracy'])\n",
        "    return model"
      ],
      "metadata": {
        "id": "F08yGGl9TLcw"
      },
      "execution_count": 11,
      "outputs": []
    },
    {
      "cell_type": "markdown",
      "source": [
        "# Training and Evaluation"
      ],
      "metadata": {
        "id": "G2td1NC8VmFL"
      }
    },
    {
      "cell_type": "code",
      "source": [
        "# Function to train and evaluate the model\n",
        "def train_and_evaluate(X_train, y_train, X_val, y_val):\n",
        "    model = build_cnn_model()\n",
        "    early_stopping = EarlyStopping(monitor='val_loss', patience=3, verbose=1, restore_best_weights=True)\n",
        "    history = model.fit(X_train, y_train, batch_size=128, epochs=5, verbose=1, validation_data=(X_val, y_val), callbacks=[early_stopping])\n",
        "    y_pred_prob = model.predict(X_val)\n",
        "    y_pred = np.argmax(y_pred_prob, axis=1)\n",
        "    accuracy = accuracy_score(np.argmax(y_val, axis=1), y_pred)\n",
        "    print('Validation accuracy:', accuracy)\n",
        "    return history, y_pred\n",
        "\n",
        "def k_fold_cross_validation(X, y, k=5):\n",
        "    kf = KFold(n_splits=k, shuffle=True, random_state=42)\n",
        "    accuracies = []\n",
        "    for train_index, test_index in kf.split(X):\n",
        "        X_train, X_test = X[train_index], X[test_index]\n",
        "        y_train, y_test = y[train_index], y[test_index]\n",
        "\n",
        "        _, y_pred = train_and_evaluate(X_train, y_train, X_test, y_test)\n",
        "        accuracies.append(accuracy_score(np.argmax(y_test, axis=1), y_pred))\n",
        "    avg_accuracy = np.mean(accuracies)\n",
        "    print(\"Average Accuracy:\", avg_accuracy)\n",
        "\n",
        "# Function to plot confusion matrix\n",
        "def plot_confusion_matrix(y_true, y_pred):\n",
        "    cm = confusion_matrix(y_true, y_pred)\n",
        "    plt.imshow(cm, interpolation='nearest', cmap=plt.cm.Blues)\n",
        "    plt.title('Confusion Matrix')\n",
        "    plt.colorbar()\n",
        "    plt.xlabel('Predicted Label')\n",
        "    plt.ylabel('True Label')\n",
        "    plt.show()"
      ],
      "metadata": {
        "id": "Emky2vL5TW5W"
      },
      "execution_count": 12,
      "outputs": []
    },
    {
      "cell_type": "code",
      "source": [
        "# Main Function\n",
        "def main():\n",
        "    # Load the MNIST data\n",
        "    (X, y), (X_test, y_test) = mnist.load_data()\n",
        "\n",
        "    #/ Load data\n",
        "    X_train, y_train, X_val, y_val, X_test, y_test = load_data()\n",
        "\n",
        "    #/ Train and evaluate the model\n",
        "    history, y_pred = train_and_evaluate(X_train, y_train, X_val, y_val)\n",
        "\n",
        "    #k_fold_cross_validation(X_train, np.argmax(y_train, axis=1))\n",
        "    k_fold_cross_validation(X_train, y_train)\n",
        "\n",
        "    # Plot confusion matrix\n",
        "    plot_confusion_matrix(np.argmax(y_val, axis=1), y_pred)\n",
        "\n",
        "if __name__ == \"__main__\":\n",
        "    main()"
      ],
      "metadata": {
        "colab": {
          "base_uri": "https://localhost:8080/",
          "height": 1793
        },
        "id": "Y86zZ3Q-TX7z",
        "outputId": "806e992b-c5db-4616-9dd2-5a003f4f95d7"
      },
      "execution_count": 13,
      "outputs": [
        {
          "metadata": {
            "tags": null
          },
          "name": "stderr",
          "output_type": "stream",
          "text": [
            "/usr/local/lib/python3.10/dist-packages/sklearn/datasets/_openml.py:968: FutureWarning: The default value of `parser` will change from `'liac-arff'` to `'auto'` in 1.4. You can set `parser='auto'` to silence this warning. Therefore, an `ImportError` will be raised from 1.4 if the dataset is dense and pandas is not installed. Note that the pandas parser may return different data types. See the Notes Section in fetch_openml's API doc for details.\n",
            "  warn(\n"
          ]
        },
        {
          "output_type": "stream",
          "name": "stdout",
          "text": [
            "Epoch 1/5\n",
            "438/438 [==============================] - 54s 122ms/step - loss: 0.2013 - accuracy: 0.9420 - val_loss: 0.0874 - val_accuracy: 0.9743\n",
            "Epoch 2/5\n",
            "438/438 [==============================] - 42s 96ms/step - loss: 0.0578 - accuracy: 0.9822 - val_loss: 0.0507 - val_accuracy: 0.9847\n",
            "Epoch 3/5\n",
            "438/438 [==============================] - 44s 99ms/step - loss: 0.0405 - accuracy: 0.9878 - val_loss: 0.0427 - val_accuracy: 0.9873\n",
            "Epoch 4/5\n",
            "438/438 [==============================] - 46s 104ms/step - loss: 0.0299 - accuracy: 0.9909 - val_loss: 0.0324 - val_accuracy: 0.9900\n",
            "Epoch 5/5\n",
            "438/438 [==============================] - 42s 96ms/step - loss: 0.0239 - accuracy: 0.9926 - val_loss: 0.0349 - val_accuracy: 0.9883\n",
            "219/219 [==============================] - 2s 8ms/step\n",
            "Validation accuracy: 0.9882857142857143\n",
            "Epoch 1/5\n",
            "350/350 [==============================] - 37s 100ms/step - loss: 0.2405 - accuracy: 0.9323 - val_loss: 0.0749 - val_accuracy: 0.9768\n",
            "Epoch 2/5\n",
            "350/350 [==============================] - 39s 111ms/step - loss: 0.0615 - accuracy: 0.9811 - val_loss: 0.0509 - val_accuracy: 0.9849\n",
            "Epoch 3/5\n",
            "350/350 [==============================] - 36s 104ms/step - loss: 0.0437 - accuracy: 0.9867 - val_loss: 0.0503 - val_accuracy: 0.9846\n",
            "Epoch 4/5\n",
            "350/350 [==============================] - 36s 103ms/step - loss: 0.0321 - accuracy: 0.9900 - val_loss: 0.0365 - val_accuracy: 0.9890\n",
            "Epoch 5/5\n",
            "350/350 [==============================] - 37s 107ms/step - loss: 0.0257 - accuracy: 0.9921 - val_loss: 0.0486 - val_accuracy: 0.9857\n",
            "350/350 [==============================] - 4s 12ms/step\n",
            "Validation accuracy: 0.9857142857142858\n",
            "Epoch 1/5\n",
            "350/350 [==============================] - 39s 109ms/step - loss: 0.2428 - accuracy: 0.9301 - val_loss: 0.0816 - val_accuracy: 0.9739\n",
            "Epoch 2/5\n",
            "350/350 [==============================] - 47s 134ms/step - loss: 0.0652 - accuracy: 0.9800 - val_loss: 0.0503 - val_accuracy: 0.9850\n",
            "Epoch 3/5\n",
            "350/350 [==============================] - 36s 103ms/step - loss: 0.0470 - accuracy: 0.9852 - val_loss: 0.0535 - val_accuracy: 0.9836\n",
            "Epoch 4/5\n",
            "350/350 [==============================] - 37s 105ms/step - loss: 0.0355 - accuracy: 0.9888 - val_loss: 0.0387 - val_accuracy: 0.9879\n",
            "Epoch 5/5\n",
            "350/350 [==============================] - 37s 106ms/step - loss: 0.0282 - accuracy: 0.9914 - val_loss: 0.0445 - val_accuracy: 0.9864\n",
            "350/350 [==============================] - 4s 11ms/step\n",
            "Validation accuracy: 0.9864285714285714\n",
            "Epoch 1/5\n",
            "350/350 [==============================] - 35s 97ms/step - loss: 0.2610 - accuracy: 0.9209 - val_loss: 0.0898 - val_accuracy: 0.9717\n",
            "Epoch 2/5\n",
            "350/350 [==============================] - 35s 99ms/step - loss: 0.0707 - accuracy: 0.9779 - val_loss: 0.0566 - val_accuracy: 0.9816\n",
            "Epoch 3/5\n",
            "350/350 [==============================] - 36s 102ms/step - loss: 0.0464 - accuracy: 0.9858 - val_loss: 0.0495 - val_accuracy: 0.9836\n",
            "Epoch 4/5\n",
            "350/350 [==============================] - 33s 96ms/step - loss: 0.0356 - accuracy: 0.9888 - val_loss: 0.0405 - val_accuracy: 0.9872\n",
            "Epoch 5/5\n",
            "350/350 [==============================] - 36s 102ms/step - loss: 0.0303 - accuracy: 0.9899 - val_loss: 0.0381 - val_accuracy: 0.9879\n",
            "350/350 [==============================] - 4s 10ms/step\n",
            "Validation accuracy: 0.9879464285714286\n",
            "Epoch 1/5\n",
            "350/350 [==============================] - 35s 98ms/step - loss: 0.2462 - accuracy: 0.9287 - val_loss: 0.0829 - val_accuracy: 0.9737\n",
            "Epoch 2/5\n",
            "350/350 [==============================] - 35s 101ms/step - loss: 0.0634 - accuracy: 0.9808 - val_loss: 0.0610 - val_accuracy: 0.9821\n",
            "Epoch 3/5\n",
            "350/350 [==============================] - 35s 100ms/step - loss: 0.0437 - accuracy: 0.9867 - val_loss: 0.0475 - val_accuracy: 0.9850\n",
            "Epoch 4/5\n",
            "350/350 [==============================] - 35s 99ms/step - loss: 0.0324 - accuracy: 0.9896 - val_loss: 0.0507 - val_accuracy: 0.9847\n",
            "Epoch 5/5\n",
            "350/350 [==============================] - 38s 108ms/step - loss: 0.0253 - accuracy: 0.9920 - val_loss: 0.0575 - val_accuracy: 0.9837\n",
            "350/350 [==============================] - 3s 8ms/step\n",
            "Validation accuracy: 0.98375\n",
            "Epoch 1/5\n",
            "350/350 [==============================] - 35s 95ms/step - loss: 0.2541 - accuracy: 0.9260 - val_loss: 0.1133 - val_accuracy: 0.9671\n",
            "Epoch 2/5\n",
            "350/350 [==============================] - 35s 100ms/step - loss: 0.0636 - accuracy: 0.9801 - val_loss: 0.0597 - val_accuracy: 0.9815\n",
            "Epoch 3/5\n",
            "350/350 [==============================] - 34s 97ms/step - loss: 0.0448 - accuracy: 0.9861 - val_loss: 0.0668 - val_accuracy: 0.9793\n",
            "Epoch 4/5\n",
            "350/350 [==============================] - 38s 110ms/step - loss: 0.0339 - accuracy: 0.9898 - val_loss: 0.0479 - val_accuracy: 0.9854\n",
            "Epoch 5/5\n",
            "350/350 [==============================] - 33s 96ms/step - loss: 0.0273 - accuracy: 0.9914 - val_loss: 0.0425 - val_accuracy: 0.9879\n",
            "350/350 [==============================] - 3s 8ms/step\n",
            "Validation accuracy: 0.9879464285714286\n",
            "Average Accuracy: 0.9863571428571429\n"
          ]
        },
        {
          "output_type": "display_data",
          "data": {
            "text/plain": [
              "<Figure size 640x480 with 2 Axes>"
            ],
            "image/png": "[encoded data removed]"
          },
          "metadata": {}
        }
      ]
    },
    {
      "cell_type": "markdown",
      "source": [
        "# CNN Architecture\n",
        "The `build_cnn_model` function defines the CNN architecture using Keras Sequential API. Here's a breakdown of the architecture:\n",
        "1. **Input Layer**:\n",
        "   - The input layer takes the input images, which are grayscale images of handwritten digits from the MNIST dataset.\n",
        "   - The images have a size of 28x28 pixels, represented as (28, 28, 1) where 1 indicates the single color channel (grayscale).\n",
        "\n",
        "2. **Convolutional Layers**:\n",
        "   - The model consists of two convolutional layers followed by max-pooling layers.\n",
        "   - The first convolutional layer has 32 filters/kernels of size 3x3. It applies these filters to the input images to extract features.\n",
        "   - The second convolutional layer has 64 filters/kernels of size 3x3. This layer further extracts higher-level features from the outputs of the first convolutional layer.\n",
        "   - ReLU activation functions are applied after each convolutional layer to introduce non-linearity to the model.\n",
        "\n",
        "3. **Max Pooling Layers**:\n",
        "   - After each convolutional layer, a max-pooling layer with a pool size of 2x2 is applied.\n",
        "   - Max pooling reduces the spatial dimensions of the feature maps while retaining the most important information.\n",
        "\n",
        "4. **Flatten Layer**:\n",
        "   - After the convolutional layers, a flatten layer is used to convert the 2D feature maps into a 1D vector.\n",
        "   - This flattening step is necessary to connect the convolutional layers to the fully connected layers.\n",
        "\n",
        "5. **Fully Connected Layers**:\n",
        "   - Following the flatten layer, there are two fully connected dense layers.\n",
        "   - The first dense layer consists of 128 neurons and applies the ReLU activation function.\n",
        "   - The second dense layer is the output layer with 10 neurons (one for each digit class) and uses the softmax activation function.\n",
        "   - Softmax converts the raw output scores into probability values, representing the likelihood of each class.\n",
        "\n",
        "6. **Output Layer**:\n",
        "   - The output layer produces a probability distribution over the 10 digit classes (0-9).\n",
        "   - During inference, the digit with the highest probability is selected as the predicted class.\n",
        "\n",
        "7. **Compilation**:\n",
        "   - The model is compiled with the Adam optimizer and categorical cross-entropy loss function.\n",
        "   - Adam is an adaptive learning rate optimization algorithm that adjusts the learning rate during training.\n",
        "   - Categorical cross-entropy is a common loss function used for multi-class classification problems.\n",
        "\n",
        "This CNN architecture follows a typical pattern of alternating convolutional layers for feature extraction and max pooling layers for downsampling, followed by fully connected layers for classification. The ReLU activation is used in the convolutional and dense layers to introduce non-linearity, while the softmax activation is used in the final layer for multi-class classification.\n",
        "\n",
        "Overall, this CNN architecture is designed to efficiently learn and extract features from the MNIST dataset, ultimately achieving high accuracy in digit recognition."
      ],
      "metadata": {
        "id": "NpHLiExvmb1v"
      }
    }
  ]
}